{
  "nbformat": 4,
  "nbformat_minor": 0,
  "metadata": {
    "colab": {
      "provenance": []
    },
    "kernelspec": {
      "name": "python3",
      "display_name": "Python 3"
    },
    "language_info": {
      "name": "python"
    }
  },
  "cells": [
    {
      "cell_type": "markdown",
      "source": [
        "#Quiz.AI: Experience the Trivia of Future"
      ],
      "metadata": {
        "id": "VLgYscRAQK36"
      }
    },
    {
      "cell_type": "markdown",
      "source": [
        "##**Install all Prerequisites**"
      ],
      "metadata": {
        "id": "i9qaxQOlj-Sk"
      }
    },
    {
      "cell_type": "code",
      "source": [
        "#Run this till it completes. Then refresh the page/Restart Runtime to make sure it is installed\n",
        "!pip uninstall ffmpeg-python\n",
        "!pip uninstall ffmpeg\n",
        "!pip uninstall redis\n",
        "!pip uninstall openai\n",
        "!pip uninstall git+https://github.com/openai/whisper.git\n",
        "!pip install git+https://github.com/openai/whisper.git\n",
        "!pip install setuptools-rust\n",
        "!pip install redis\n",
        "!pip install openai\n",
        "!pip install ffmpeg-python\n",
        "!pip install maskpass"
      ],
      "metadata": {
        "id": "S6FbwNzJk0Te"
      },
      "execution_count": null,
      "outputs": []
    },
    {
      "cell_type": "markdown",
      "source": [
        "\n",
        "##**Driver Code**"
      ],
      "metadata": {
        "id": "Nq2H0FVWwy1u"
      }
    },
    {
      "cell_type": "code",
      "source": [
        "#Import all Modules - DO NOT CHANGE\n",
        "import whisper\n",
        "import openai\n",
        "import os\n",
        "import random\n",
        "import redis\n",
        "import json\n",
        "\n",
        "#Define Variables and API Keys - DO NOT CHANGE\n",
        "model = whisper.load_model(\"base\")\n",
        "openai.api_key = input(\"Please enter your Open-API Key: \")\n",
        "\n",
        "num_questions = 0\n",
        "correct_answers = 0\n",
        "age = -1\n",
        "topic = \"\"\n",
        "\n",
        "#This Command asks the User his/her age\n",
        "\n",
        "print(\"What is your Age? \")\n",
        "ageDict = model.transcribe(\"age.m4a\", fp16=False) #If you click on the folder icon located on the left side of google colaboratory, you will find the audio file 'age.m4a'. Now what I want you guys to do is upload your own recordings in their and chand the variable in this code to test if your recoding is getting converted Successfully.\n",
        "age = ageDict[\"text\"]\n",
        "print(\"You are \"+age+\" Years old.\")\n",
        "'''while True:\n",
        "  try:\n",
        "    ageInt = int(input(\"Enter your age: \"))\n",
        "    if ageInt > 0:\n",
        "      age=str(ageInt)\n",
        "      break\n",
        "    print(\"Invalid age entered\")\n",
        "  except Exception as e:\n",
        "    print(e)'''\n",
        "\n",
        "#This Command asks the User his/her topic\n",
        "print(\"What Topic do you want the quiz to be on? \")\n",
        "topicDict = model.transcribe(\"topic.m4a\", fp16=False) #If you click on the folder icon located on the left side of google colaboratory, you will find the audio file 'Music.m4a'. Now what I want you guys to do is upload your own recordings in their and chand the variable in this code to test if your recoding is getting converted Successfully.\n",
        "topic = topicDict[\"text\"]\n",
        "'''topic = input(\"What Topic do you want the quiz to be on? \")'''\n",
        "print(\"You have chosen \" + topic)\n",
        "\n",
        "#This command asks the User how many questions do they want to answer - DO NOT CHANGE\n",
        "while True:\n",
        "  try:\n",
        "    num_questions = int(input(\"How many questions would you like to Answer? \"))\n",
        "    if num_questions > 0:\n",
        "      break\n",
        "    print(\"Invalid number entered\")\n",
        "  except Exception as e:\n",
        "    print(e)\n",
        "\n",
        "# Connect to Redis\n",
        "r = redis.Redis(host='redis-14880.c15.us-east-1-2.ec2.cloud.redislabs.com', port=14880, password='b1elTNUSTLSw9MXQs3JIi3jAkV1EMrfh')\n",
        "\n",
        "#This loop goes through the number of questions that a user wants - DO NOT CHANGE\n",
        "for i in range(num_questions):\n",
        "  #The following command asks the question to the user\n",
        "  completion = openai.ChatCompletion.create(model=\"gpt-3.5-turbo\", messages=[{\"role\":\"user\", \"content\": \"Generate a random easy question that you have not asked before related to \" +topic+\" for a \"+age+\"-year-old which can be answered in one word. Don't provide the answer\"}])\n",
        "  question = completion.choices[0].message.content\n",
        "  print(completion.choices[0].message.content)\n",
        "\n",
        "  #The following command asks the user for an answer\n",
        "  user_answer = input(\"Please provide me with your answer: \")\n",
        "\n",
        "  #The following command verifies the answer with ChatGPT\n",
        "  completionOne = openai.ChatCompletion.create(model=\"gpt-3.5-turbo\", messages=[{\"role\":\"user\", \"content\": \"Is \"+user_answer+\" a correct answer for the question: \"+question+\" Answer ONLY in True or False and be lenient. The answer need not be grammatically and fully correct\"}])\n",
        "  answer = completionOne.choices[0].message.content\n",
        "  print(completionOne.choices[0].message.content)\n",
        "\n",
        "  #The following Command checks and provides you with the score accordingly\n",
        "  if (answer == 'True' or answer == 'True.'):\n",
        "    correct_answers = correct_answers+1\n",
        "    \n",
        "  # Insert each object into Redis\n",
        "  r.lpush('my_list', json.dumps({'Topic': topic, 'Age': age, 'Question': question, 'User Answer': user_answer, 'Correct Answer': answer}))\n",
        "\n",
        "print(\"Hooray! You got \" +str(correct_answers)+ \" out of \"+str(num_questions)+\" answers right!\")\n"
      ],
      "metadata": {
        "id": "lYqgVHmcwsUr"
      },
      "execution_count": null,
      "outputs": []
    },
    {
      "cell_type": "markdown",
      "source": [
        "**To Print Redis Database**"
      ],
      "metadata": {
        "id": "vGVZ8ynb8_Fn"
      }
    },
    {
      "cell_type": "code",
      "source": [
        "objects_from_redis = []\n",
        "for i in range(r.llen('my_list')):\n",
        "    obj = json.loads(r.lindex('my_list', i))\n",
        "    objects_from_redis.append(obj)\n",
        "\n",
        "print(objects_from_redis)"
      ],
      "metadata": {
        "colab": {
          "base_uri": "https://localhost:8080/"
        },
        "id": "Io_i7VUd6wsD",
        "outputId": "4e4006ae-88dd-4e59-9491-05387bc5ddf4"
      },
      "execution_count": null,
      "outputs": [
        {
          "output_type": "stream",
          "name": "stdout",
          "text": [
            "[{'Topic': ' Video games.', 'Age': ' 15', 'Question': 'What is the name of the main character in the game \"The Last of Us\"?', 'User Answer': 'alfred', 'Correct Answer': 'False.'}, {'Topic': ' Video games.', 'Age': ' 15', 'Question': 'What is the name of the main character in the game \"The Legend of Zelda: Breath of the Wild\"?', 'User Answer': 'zelda', 'Correct Answer': 'True.'}, {'Topic': ' Video games.', 'Age': ' 15', 'Question': 'What is the name of the main character in Super Mario Bros?', 'User Answer': 'mario', 'Correct Answer': 'True.'}]\n"
          ]
        }
      ]
    },
    {
      "cell_type": "markdown",
      "source": [
        "**To Refresh the Database**"
      ],
      "metadata": {
        "id": "OgksD9DX85ff"
      }
    },
    {
      "cell_type": "code",
      "source": [
        "r.flushall()"
      ],
      "metadata": {
        "colab": {
          "base_uri": "https://localhost:8080/"
        },
        "id": "brjGH97N8ZUY",
        "outputId": "d561b70f-71ee-46a5-f0b6-8fc3d32c24f0"
      },
      "execution_count": null,
      "outputs": [
        {
          "output_type": "execute_result",
          "data": {
            "text/plain": [
              "True"
            ]
          },
          "metadata": {},
          "execution_count": 7
        }
      ]
    }
  ]
}